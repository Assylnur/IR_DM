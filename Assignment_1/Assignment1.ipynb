{
 "cells": [
  {
   "cell_type": "markdown",
   "id": "ab09ba1d",
   "metadata": {},
   "source": [
    "# Assignment 1. \n",
    "### Text similarity and Agglomerative Document Clustering. "
   ]
  },
  {
   "cell_type": "code",
   "execution_count": 1,
   "id": "7b42f31a",
   "metadata": {},
   "outputs": [],
   "source": [
    "# Import libraries \n",
    "import pandas as pd \n",
    "import re\n",
    "import math\n",
    "from scipy.spatial.distance import cosine  \n"
   ]
  },
  {
   "cell_type": "markdown",
   "id": "d6a7121f",
   "metadata": {},
   "source": [
    "## Task 1"
   ]
  },
  {
   "cell_type": "markdown",
   "id": "5e1b62b4",
   "metadata": {},
   "source": [
    "Task 1.\n",
    "Please download text file. There we have 22 sentence related to the «cat» topic.\n",
    "- Cat (animal)\n",
    "- UNIX-utility cat for to display the contents of files\n",
    "- versions of the OS X operating system named after the feline family\n",
    "Your task is to find two sentences that are closest in meaning to the first sentence in document\n",
    "(«In comparison to dogs, cats have not undergone …….») We will use the cosine distance as a\n",
    "measure of proximity.\n",
    "Steps:\n",
    "1. Open the file.\n",
    "2. Each line is the one sentence. Please make them all in lower case form using string function\n",
    "lower(). EXAMPLE: <i>in comparison to dogs, cats have not undergone major changes during the</i>\n",
    "domestication process.\n",
    "3. Tokenization. Means that splitting the sentences to the words. For that purpose you can use\n",
    "regular expressions, that can split the words by space or any other symbols that aren’t letters.\n",
    "re.split('[^a-z]', t). Do not forgot to remove empty words. EXAMPLE: <i>['in', 'comparison', 'to',\n",
    "'dogs', '', 'cats', 'have', 'not', 'undergone', 'major', 'changes', 'during', 'the', 'domestication',\n",
    "'process']</i>\n",
    "4. Make a list of all the words that appear in the sentences. Note: all the words are unique. And\n",
    "give the index to the each sentence index from 0 to #of_the_unique_words. You can use dict.\n",
    "Example: <i>{0: ‘mac', 1: 'permanently',2: 'osx',3: 'download',4: 'between',5: ‘based', 6: ‘which',\n",
    "…………., 252: ‘safer', 253: ‘will’}.</i> Hint: we have 254 unique words.\n",
    "5. And create Matrix with N x D dimensions. N is the number of the sentences and D is the\n",
    "number of the unique words (22 x 254). Fill it in: the element with index (i, j) in this matrix must\n",
    "be equal to the number of occurrences of the j-th word in the i-th sentence. (bag of words)\n",
    "6. Find the cosine distance from first sentence to the all other sentences. Which two sentences\n",
    "is close to the first sentence. You can use scipy.spatial.distance.cosine  "
   ]
  },
  {
   "cell_type": "code",
   "execution_count": 2,
   "id": "f2385757",
   "metadata": {},
   "outputs": [],
   "source": [
    "# 1. Read texts from file\n",
    "with open('words.txt') as f:\n",
    "    txt = f.readlines()"
   ]
  },
  {
   "cell_type": "code",
   "execution_count": 3,
   "id": "aca9701a",
   "metadata": {},
   "outputs": [],
   "source": [
    "# 2\n",
    "lines=[re.split('[^a-z]',i.lower()) for i in txt]"
   ]
  },
  {
   "cell_type": "code",
   "execution_count": 4,
   "id": "8ef0afee",
   "metadata": {},
   "outputs": [],
   "source": [
    "lines = [' '.join([j for j in i if j!='']) for i in lines ]"
   ]
  },
  {
   "cell_type": "code",
   "execution_count": 5,
   "id": "a96ea84f",
   "metadata": {},
   "outputs": [],
   "source": [
    "# 3. Tokenization.\n",
    "words = ' '.join(lines).split(' ')"
   ]
  },
  {
   "cell_type": "code",
   "execution_count": 6,
   "id": "0171259d",
   "metadata": {},
   "outputs": [],
   "source": [
    "# 4. Make a list of all the words\n",
    "words = list(set(words))"
   ]
  },
  {
   "cell_type": "code",
   "execution_count": 7,
   "id": "a84b3671",
   "metadata": {},
   "outputs": [],
   "source": [
    "words_dic = {words.index(x): x for x in words}"
   ]
  },
  {
   "cell_type": "code",
   "execution_count": 8,
   "id": "7a9cd7ad",
   "metadata": {},
   "outputs": [],
   "source": [
    "# 5 create Matrix with N x D dimensions\n",
    "df = pd.DataFrame(0,index=lines, columns=words_dic.values())"
   ]
  },
  {
   "cell_type": "code",
   "execution_count": 9,
   "id": "7d1a3804",
   "metadata": {},
   "outputs": [],
   "source": [
    "for i in df.index:\n",
    "    for j in df.columns:\n",
    "        for k in i.split(' '):\n",
    "            if j==k:\n",
    "                df.loc[i,j]+=1"
   ]
  },
  {
   "cell_type": "code",
   "execution_count": 10,
   "id": "d2d4d216",
   "metadata": {},
   "outputs": [
    {
     "data": {
      "text/html": [
       "<div>\n",
       "<style scoped>\n",
       "    .dataframe tbody tr th:only-of-type {\n",
       "        vertical-align: middle;\n",
       "    }\n",
       "\n",
       "    .dataframe tbody tr th {\n",
       "        vertical-align: top;\n",
       "    }\n",
       "\n",
       "    .dataframe thead th {\n",
       "        text-align: right;\n",
       "    }\n",
       "</style>\n",
       "<table border=\"1\" class=\"dataframe\">\n",
       "  <thead>\n",
       "    <tr style=\"text-align: right;\">\n",
       "      <th></th>\n",
       "      <th>three</th>\n",
       "      <th>lines</th>\n",
       "      <th>small</th>\n",
       "      <th>where</th>\n",
       "      <th>permanently</th>\n",
       "      <th>are</th>\n",
       "      <th>clear</th>\n",
       "      <th>editions</th>\n",
       "      <th>terms</th>\n",
       "      <th>longer</th>\n",
       "      <th>...</th>\n",
       "      <th>recent</th>\n",
       "      <th>just</th>\n",
       "      <th>lion</th>\n",
       "      <th>online</th>\n",
       "      <th>often</th>\n",
       "      <th>intel</th>\n",
       "      <th>release</th>\n",
       "      <th>count</th>\n",
       "      <th>closest</th>\n",
       "      <th>were</th>\n",
       "    </tr>\n",
       "  </thead>\n",
       "  <tbody>\n",
       "    <tr>\n",
       "      <th>in comparison to dogs cats have not undergone major changes during the domestication process</th>\n",
       "      <td>0</td>\n",
       "      <td>0</td>\n",
       "      <td>0</td>\n",
       "      <td>0</td>\n",
       "      <td>0</td>\n",
       "      <td>0</td>\n",
       "      <td>0</td>\n",
       "      <td>0</td>\n",
       "      <td>0</td>\n",
       "      <td>0</td>\n",
       "      <td>...</td>\n",
       "      <td>0</td>\n",
       "      <td>0</td>\n",
       "      <td>0</td>\n",
       "      <td>0</td>\n",
       "      <td>0</td>\n",
       "      <td>0</td>\n",
       "      <td>0</td>\n",
       "      <td>0</td>\n",
       "      <td>0</td>\n",
       "      <td>0</td>\n",
       "    </tr>\n",
       "    <tr>\n",
       "      <th>as cat simply catenates streams of bytes it can be also used to concatenate binary files where it will just concatenate sequence of bytes</th>\n",
       "      <td>0</td>\n",
       "      <td>0</td>\n",
       "      <td>0</td>\n",
       "      <td>1</td>\n",
       "      <td>0</td>\n",
       "      <td>0</td>\n",
       "      <td>0</td>\n",
       "      <td>0</td>\n",
       "      <td>0</td>\n",
       "      <td>0</td>\n",
       "      <td>...</td>\n",
       "      <td>0</td>\n",
       "      <td>1</td>\n",
       "      <td>0</td>\n",
       "      <td>0</td>\n",
       "      <td>0</td>\n",
       "      <td>0</td>\n",
       "      <td>0</td>\n",
       "      <td>0</td>\n",
       "      <td>0</td>\n",
       "      <td>0</td>\n",
       "    </tr>\n",
       "    <tr>\n",
       "      <th>a common interactive use of cat for a single file is to output the content of a file to standard output</th>\n",
       "      <td>0</td>\n",
       "      <td>0</td>\n",
       "      <td>0</td>\n",
       "      <td>0</td>\n",
       "      <td>0</td>\n",
       "      <td>0</td>\n",
       "      <td>0</td>\n",
       "      <td>0</td>\n",
       "      <td>0</td>\n",
       "      <td>0</td>\n",
       "      <td>...</td>\n",
       "      <td>0</td>\n",
       "      <td>0</td>\n",
       "      <td>0</td>\n",
       "      <td>0</td>\n",
       "      <td>0</td>\n",
       "      <td>0</td>\n",
       "      <td>0</td>\n",
       "      <td>0</td>\n",
       "      <td>0</td>\n",
       "      <td>0</td>\n",
       "    </tr>\n",
       "  </tbody>\n",
       "</table>\n",
       "<p>3 rows × 254 columns</p>\n",
       "</div>"
      ],
      "text/plain": [
       "                                                    three  lines  small  \\\n",
       "in comparison to dogs cats have not undergone m...      0      0      0   \n",
       "as cat simply catenates streams of bytes it can...      0      0      0   \n",
       "a common interactive use of cat for a single fi...      0      0      0   \n",
       "\n",
       "                                                    where  permanently  are  \\\n",
       "in comparison to dogs cats have not undergone m...      0            0    0   \n",
       "as cat simply catenates streams of bytes it can...      1            0    0   \n",
       "a common interactive use of cat for a single fi...      0            0    0   \n",
       "\n",
       "                                                    clear  editions  terms  \\\n",
       "in comparison to dogs cats have not undergone m...      0         0      0   \n",
       "as cat simply catenates streams of bytes it can...      0         0      0   \n",
       "a common interactive use of cat for a single fi...      0         0      0   \n",
       "\n",
       "                                                    longer  ...  recent  just  \\\n",
       "in comparison to dogs cats have not undergone m...       0  ...       0     0   \n",
       "as cat simply catenates streams of bytes it can...       0  ...       0     1   \n",
       "a common interactive use of cat for a single fi...       0  ...       0     0   \n",
       "\n",
       "                                                    lion  online  often  \\\n",
       "in comparison to dogs cats have not undergone m...     0       0      0   \n",
       "as cat simply catenates streams of bytes it can...     0       0      0   \n",
       "a common interactive use of cat for a single fi...     0       0      0   \n",
       "\n",
       "                                                    intel  release  count  \\\n",
       "in comparison to dogs cats have not undergone m...      0        0      0   \n",
       "as cat simply catenates streams of bytes it can...      0        0      0   \n",
       "a common interactive use of cat for a single fi...      0        0      0   \n",
       "\n",
       "                                                    closest  were  \n",
       "in comparison to dogs cats have not undergone m...        0     0  \n",
       "as cat simply catenates streams of bytes it can...        0     0  \n",
       "a common interactive use of cat for a single fi...        0     0  \n",
       "\n",
       "[3 rows x 254 columns]"
      ]
     },
     "execution_count": 10,
     "metadata": {},
     "output_type": "execute_result"
    }
   ],
   "source": [
    "df.head(3)"
   ]
  },
  {
   "cell_type": "code",
   "execution_count": 11,
   "id": "ba344419",
   "metadata": {},
   "outputs": [
    {
     "name": "stdout",
     "output_type": "stream",
     "text": [
      "-- The cosine distance from first sentence to the all other sentences:\n",
      " \n",
      "[0.0, 0.9527544408738466, 0.8644738145642124, 0.8951715163278082, 0.7770887149698589, 0.9402385695332803, 0.7327387580875756, 0.9258750683338899, 0.8842724875284311, 0.9055088817476932, 0.8328165362273942, 0.8804771390665607, 0.8396432548525454, 0.8703592552895671, 0.8740118423302576, 0.9442721787424647, 0.8406361854220809, 0.956644501523794, 0.9442721787424647, 0.8885443574849294, 0.8427572744917122, 0.8250364469440588] \n",
      "\n",
      "\n",
      "-- The two sentences which is close to the first sentence:\n",
      "\n",
      "* 4’ sentence ( distance is: 0.7770887149698589 ):\n",
      " In one, people deliberately tamed cats in a process of artificial selection, as they were useful predators of vermin.\n",
      "\n",
      "* 6’ sentence ( distance is: 0.7327387580875756 ):\n",
      " Domestic cats are similar in size to the other members of the genus Felis, typically weighing between 4 and 5 kg (8.8 and 11.0 lb).\n",
      "\n"
     ]
    }
   ],
   "source": [
    "# 6. Find the cosine distance\n",
    "cos = []\n",
    "for i in range (0, df.shape[0]):\n",
    "    cos.append(cosine(df.iloc[0], df.iloc[i]))\n",
    "print(\"-- The cosine distance from first sentence to the all other sentences:\\n \")\n",
    "print(cos,'\\n\\n')\n",
    "\n",
    "print(\"-- The two sentences which is close to the first sentence:\\n\")\n",
    "\n",
    "for i in range (0, len(cos)):  \n",
    "    if cos[i] in sorted(cos)[1:3]:\n",
    "        print('*',str(i)+'’ sentence ( distance is:',cos[i],'):\\n',txt[i])"
   ]
  },
  {
   "cell_type": "markdown",
   "id": "69a48a0e",
   "metadata": {},
   "source": [
    "## Task 2"
   ]
  },
  {
   "cell_type": "markdown",
   "id": "df9580e8",
   "metadata": {},
   "source": [
    "For the second Task please do the same step from Task 1 (steps 1- 4).\n",
    "\n",
    "In this task you will create Term Frequency — Inverse Document Frequency matrix. Find the cosine distance from first sentence to the all other sentences. Which two sentences is close to the\n",
    "first sentence. You can use <i>scipy.spatial.distance.cosine.</i> Is the any difference from the result of the previous Task? Note: You should not to use any existing libraries for tdf/idf. All the steps similar\n",
    "to the previous example. "
   ]
  },
  {
   "cell_type": "code",
   "execution_count": 12,
   "id": "398c3795",
   "metadata": {},
   "outputs": [],
   "source": [
    "# Create Matrix with N x D dimensions\n",
    "tf = pd.DataFrame(0,lines, words_dic.values())"
   ]
  },
  {
   "cell_type": "code",
   "execution_count": 13,
   "id": "53aa3c8a",
   "metadata": {},
   "outputs": [],
   "source": [
    "# Term Frequency\n",
    "for i in tf.index:\n",
    "    for j in tf.columns:\n",
    "        for k in i.split(' '):\n",
    "            if j==k:\n",
    "                tf.loc[i,j]+=1\n",
    "        tf.loc[i,j] /= len(i.split(' '))"
   ]
  },
  {
   "cell_type": "code",
   "execution_count": 14,
   "id": "9dd89a59",
   "metadata": {},
   "outputs": [
    {
     "data": {
      "text/html": [
       "<div>\n",
       "<style scoped>\n",
       "    .dataframe tbody tr th:only-of-type {\n",
       "        vertical-align: middle;\n",
       "    }\n",
       "\n",
       "    .dataframe tbody tr th {\n",
       "        vertical-align: top;\n",
       "    }\n",
       "\n",
       "    .dataframe thead th {\n",
       "        text-align: right;\n",
       "    }\n",
       "</style>\n",
       "<table border=\"1\" class=\"dataframe\">\n",
       "  <thead>\n",
       "    <tr style=\"text-align: right;\">\n",
       "      <th></th>\n",
       "      <th>three</th>\n",
       "      <th>lines</th>\n",
       "      <th>small</th>\n",
       "      <th>where</th>\n",
       "      <th>permanently</th>\n",
       "      <th>are</th>\n",
       "      <th>clear</th>\n",
       "      <th>editions</th>\n",
       "      <th>terms</th>\n",
       "      <th>longer</th>\n",
       "      <th>...</th>\n",
       "      <th>recent</th>\n",
       "      <th>just</th>\n",
       "      <th>lion</th>\n",
       "      <th>online</th>\n",
       "      <th>often</th>\n",
       "      <th>intel</th>\n",
       "      <th>release</th>\n",
       "      <th>count</th>\n",
       "      <th>closest</th>\n",
       "      <th>were</th>\n",
       "    </tr>\n",
       "  </thead>\n",
       "  <tbody>\n",
       "    <tr>\n",
       "      <th>in comparison to dogs cats have not undergone major changes during the domestication process</th>\n",
       "      <td>0.0</td>\n",
       "      <td>0.0</td>\n",
       "      <td>0.0</td>\n",
       "      <td>0.000000</td>\n",
       "      <td>0.0</td>\n",
       "      <td>0.0</td>\n",
       "      <td>0.0</td>\n",
       "      <td>0.0</td>\n",
       "      <td>0.0</td>\n",
       "      <td>0.0</td>\n",
       "      <td>...</td>\n",
       "      <td>0.0</td>\n",
       "      <td>0.000000</td>\n",
       "      <td>0.0</td>\n",
       "      <td>0.0</td>\n",
       "      <td>0.0</td>\n",
       "      <td>0.0</td>\n",
       "      <td>0.0</td>\n",
       "      <td>0.0</td>\n",
       "      <td>0.0</td>\n",
       "      <td>0.0</td>\n",
       "    </tr>\n",
       "    <tr>\n",
       "      <th>as cat simply catenates streams of bytes it can be also used to concatenate binary files where it will just concatenate sequence of bytes</th>\n",
       "      <td>0.0</td>\n",
       "      <td>0.0</td>\n",
       "      <td>0.0</td>\n",
       "      <td>0.041667</td>\n",
       "      <td>0.0</td>\n",
       "      <td>0.0</td>\n",
       "      <td>0.0</td>\n",
       "      <td>0.0</td>\n",
       "      <td>0.0</td>\n",
       "      <td>0.0</td>\n",
       "      <td>...</td>\n",
       "      <td>0.0</td>\n",
       "      <td>0.041667</td>\n",
       "      <td>0.0</td>\n",
       "      <td>0.0</td>\n",
       "      <td>0.0</td>\n",
       "      <td>0.0</td>\n",
       "      <td>0.0</td>\n",
       "      <td>0.0</td>\n",
       "      <td>0.0</td>\n",
       "      <td>0.0</td>\n",
       "    </tr>\n",
       "    <tr>\n",
       "      <th>a common interactive use of cat for a single file is to output the content of a file to standard output</th>\n",
       "      <td>0.0</td>\n",
       "      <td>0.0</td>\n",
       "      <td>0.0</td>\n",
       "      <td>0.000000</td>\n",
       "      <td>0.0</td>\n",
       "      <td>0.0</td>\n",
       "      <td>0.0</td>\n",
       "      <td>0.0</td>\n",
       "      <td>0.0</td>\n",
       "      <td>0.0</td>\n",
       "      <td>...</td>\n",
       "      <td>0.0</td>\n",
       "      <td>0.000000</td>\n",
       "      <td>0.0</td>\n",
       "      <td>0.0</td>\n",
       "      <td>0.0</td>\n",
       "      <td>0.0</td>\n",
       "      <td>0.0</td>\n",
       "      <td>0.0</td>\n",
       "      <td>0.0</td>\n",
       "      <td>0.0</td>\n",
       "    </tr>\n",
       "  </tbody>\n",
       "</table>\n",
       "<p>3 rows × 254 columns</p>\n",
       "</div>"
      ],
      "text/plain": [
       "                                                    three  lines  small  \\\n",
       "in comparison to dogs cats have not undergone m...    0.0    0.0    0.0   \n",
       "as cat simply catenates streams of bytes it can...    0.0    0.0    0.0   \n",
       "a common interactive use of cat for a single fi...    0.0    0.0    0.0   \n",
       "\n",
       "                                                       where  permanently  \\\n",
       "in comparison to dogs cats have not undergone m...  0.000000          0.0   \n",
       "as cat simply catenates streams of bytes it can...  0.041667          0.0   \n",
       "a common interactive use of cat for a single fi...  0.000000          0.0   \n",
       "\n",
       "                                                    are  clear  editions  \\\n",
       "in comparison to dogs cats have not undergone m...  0.0    0.0       0.0   \n",
       "as cat simply catenates streams of bytes it can...  0.0    0.0       0.0   \n",
       "a common interactive use of cat for a single fi...  0.0    0.0       0.0   \n",
       "\n",
       "                                                    terms  longer  ...  \\\n",
       "in comparison to dogs cats have not undergone m...    0.0     0.0  ...   \n",
       "as cat simply catenates streams of bytes it can...    0.0     0.0  ...   \n",
       "a common interactive use of cat for a single fi...    0.0     0.0  ...   \n",
       "\n",
       "                                                    recent      just  lion  \\\n",
       "in comparison to dogs cats have not undergone m...     0.0  0.000000   0.0   \n",
       "as cat simply catenates streams of bytes it can...     0.0  0.041667   0.0   \n",
       "a common interactive use of cat for a single fi...     0.0  0.000000   0.0   \n",
       "\n",
       "                                                    online  often  intel  \\\n",
       "in comparison to dogs cats have not undergone m...     0.0    0.0    0.0   \n",
       "as cat simply catenates streams of bytes it can...     0.0    0.0    0.0   \n",
       "a common interactive use of cat for a single fi...     0.0    0.0    0.0   \n",
       "\n",
       "                                                    release  count  closest  \\\n",
       "in comparison to dogs cats have not undergone m...      0.0    0.0      0.0   \n",
       "as cat simply catenates streams of bytes it can...      0.0    0.0      0.0   \n",
       "a common interactive use of cat for a single fi...      0.0    0.0      0.0   \n",
       "\n",
       "                                                    were  \n",
       "in comparison to dogs cats have not undergone m...   0.0  \n",
       "as cat simply catenates streams of bytes it can...   0.0  \n",
       "a common interactive use of cat for a single fi...   0.0  \n",
       "\n",
       "[3 rows x 254 columns]"
      ]
     },
     "execution_count": 14,
     "metadata": {},
     "output_type": "execute_result"
    }
   ],
   "source": [
    "tf.head(3)"
   ]
  },
  {
   "cell_type": "code",
   "execution_count": 15,
   "id": "b72bd2ea",
   "metadata": {},
   "outputs": [],
   "source": [
    "# Inverse Document Frequenc\n",
    "idf=(len(tf.index) / tf[tf>0].count()).apply(lambda x : math.log(x))"
   ]
  },
  {
   "cell_type": "code",
   "execution_count": 16,
   "id": "13d4a030",
   "metadata": {},
   "outputs": [],
   "source": [
    "# TF-IDF\n",
    "tf_idf = idf*tf"
   ]
  },
  {
   "cell_type": "code",
   "execution_count": 17,
   "id": "d1069e83",
   "metadata": {},
   "outputs": [
    {
     "data": {
      "text/html": [
       "<div>\n",
       "<style scoped>\n",
       "    .dataframe tbody tr th:only-of-type {\n",
       "        vertical-align: middle;\n",
       "    }\n",
       "\n",
       "    .dataframe tbody tr th {\n",
       "        vertical-align: top;\n",
       "    }\n",
       "\n",
       "    .dataframe thead th {\n",
       "        text-align: right;\n",
       "    }\n",
       "</style>\n",
       "<table border=\"1\" class=\"dataframe\">\n",
       "  <thead>\n",
       "    <tr style=\"text-align: right;\">\n",
       "      <th></th>\n",
       "      <th>three</th>\n",
       "      <th>lines</th>\n",
       "      <th>small</th>\n",
       "      <th>where</th>\n",
       "      <th>permanently</th>\n",
       "      <th>are</th>\n",
       "      <th>clear</th>\n",
       "      <th>editions</th>\n",
       "      <th>terms</th>\n",
       "      <th>longer</th>\n",
       "      <th>...</th>\n",
       "      <th>recent</th>\n",
       "      <th>just</th>\n",
       "      <th>lion</th>\n",
       "      <th>online</th>\n",
       "      <th>often</th>\n",
       "      <th>intel</th>\n",
       "      <th>release</th>\n",
       "      <th>count</th>\n",
       "      <th>closest</th>\n",
       "      <th>were</th>\n",
       "    </tr>\n",
       "  </thead>\n",
       "  <tbody>\n",
       "    <tr>\n",
       "      <th>in comparison to dogs cats have not undergone major changes during the domestication process</th>\n",
       "      <td>0.0</td>\n",
       "      <td>0.0</td>\n",
       "      <td>0.0</td>\n",
       "      <td>0.000000</td>\n",
       "      <td>0.0</td>\n",
       "      <td>0.0</td>\n",
       "      <td>0.0</td>\n",
       "      <td>0.0</td>\n",
       "      <td>0.0</td>\n",
       "      <td>0.0</td>\n",
       "      <td>...</td>\n",
       "      <td>0.0</td>\n",
       "      <td>0.000000</td>\n",
       "      <td>0.0</td>\n",
       "      <td>0.0</td>\n",
       "      <td>0.0</td>\n",
       "      <td>0.0</td>\n",
       "      <td>0.0</td>\n",
       "      <td>0.0</td>\n",
       "      <td>0.0</td>\n",
       "      <td>0.0</td>\n",
       "    </tr>\n",
       "    <tr>\n",
       "      <th>as cat simply catenates streams of bytes it can be also used to concatenate binary files where it will just concatenate sequence of bytes</th>\n",
       "      <td>0.0</td>\n",
       "      <td>0.0</td>\n",
       "      <td>0.0</td>\n",
       "      <td>0.099912</td>\n",
       "      <td>0.0</td>\n",
       "      <td>0.0</td>\n",
       "      <td>0.0</td>\n",
       "      <td>0.0</td>\n",
       "      <td>0.0</td>\n",
       "      <td>0.0</td>\n",
       "      <td>...</td>\n",
       "      <td>0.0</td>\n",
       "      <td>0.083018</td>\n",
       "      <td>0.0</td>\n",
       "      <td>0.0</td>\n",
       "      <td>0.0</td>\n",
       "      <td>0.0</td>\n",
       "      <td>0.0</td>\n",
       "      <td>0.0</td>\n",
       "      <td>0.0</td>\n",
       "      <td>0.0</td>\n",
       "    </tr>\n",
       "    <tr>\n",
       "      <th>a common interactive use of cat for a single file is to output the content of a file to standard output</th>\n",
       "      <td>0.0</td>\n",
       "      <td>0.0</td>\n",
       "      <td>0.0</td>\n",
       "      <td>0.000000</td>\n",
       "      <td>0.0</td>\n",
       "      <td>0.0</td>\n",
       "      <td>0.0</td>\n",
       "      <td>0.0</td>\n",
       "      <td>0.0</td>\n",
       "      <td>0.0</td>\n",
       "      <td>...</td>\n",
       "      <td>0.0</td>\n",
       "      <td>0.000000</td>\n",
       "      <td>0.0</td>\n",
       "      <td>0.0</td>\n",
       "      <td>0.0</td>\n",
       "      <td>0.0</td>\n",
       "      <td>0.0</td>\n",
       "      <td>0.0</td>\n",
       "      <td>0.0</td>\n",
       "      <td>0.0</td>\n",
       "    </tr>\n",
       "  </tbody>\n",
       "</table>\n",
       "<p>3 rows × 254 columns</p>\n",
       "</div>"
      ],
      "text/plain": [
       "                                                    three  lines  small  \\\n",
       "in comparison to dogs cats have not undergone m...    0.0    0.0    0.0   \n",
       "as cat simply catenates streams of bytes it can...    0.0    0.0    0.0   \n",
       "a common interactive use of cat for a single fi...    0.0    0.0    0.0   \n",
       "\n",
       "                                                       where  permanently  \\\n",
       "in comparison to dogs cats have not undergone m...  0.000000          0.0   \n",
       "as cat simply catenates streams of bytes it can...  0.099912          0.0   \n",
       "a common interactive use of cat for a single fi...  0.000000          0.0   \n",
       "\n",
       "                                                    are  clear  editions  \\\n",
       "in comparison to dogs cats have not undergone m...  0.0    0.0       0.0   \n",
       "as cat simply catenates streams of bytes it can...  0.0    0.0       0.0   \n",
       "a common interactive use of cat for a single fi...  0.0    0.0       0.0   \n",
       "\n",
       "                                                    terms  longer  ...  \\\n",
       "in comparison to dogs cats have not undergone m...    0.0     0.0  ...   \n",
       "as cat simply catenates streams of bytes it can...    0.0     0.0  ...   \n",
       "a common interactive use of cat for a single fi...    0.0     0.0  ...   \n",
       "\n",
       "                                                    recent      just  lion  \\\n",
       "in comparison to dogs cats have not undergone m...     0.0  0.000000   0.0   \n",
       "as cat simply catenates streams of bytes it can...     0.0  0.083018   0.0   \n",
       "a common interactive use of cat for a single fi...     0.0  0.000000   0.0   \n",
       "\n",
       "                                                    online  often  intel  \\\n",
       "in comparison to dogs cats have not undergone m...     0.0    0.0    0.0   \n",
       "as cat simply catenates streams of bytes it can...     0.0    0.0    0.0   \n",
       "a common interactive use of cat for a single fi...     0.0    0.0    0.0   \n",
       "\n",
       "                                                    release  count  closest  \\\n",
       "in comparison to dogs cats have not undergone m...      0.0    0.0      0.0   \n",
       "as cat simply catenates streams of bytes it can...      0.0    0.0      0.0   \n",
       "a common interactive use of cat for a single fi...      0.0    0.0      0.0   \n",
       "\n",
       "                                                    were  \n",
       "in comparison to dogs cats have not undergone m...   0.0  \n",
       "as cat simply catenates streams of bytes it can...   0.0  \n",
       "a common interactive use of cat for a single fi...   0.0  \n",
       "\n",
       "[3 rows x 254 columns]"
      ]
     },
     "execution_count": 17,
     "metadata": {},
     "output_type": "execute_result"
    }
   ],
   "source": [
    "tf_idf.head(3)"
   ]
  },
  {
   "cell_type": "code",
   "execution_count": 18,
   "id": "8a8164c4",
   "metadata": {},
   "outputs": [
    {
     "name": "stdout",
     "output_type": "stream",
     "text": [
      "-- The cosine distance from first sentence to the all other sentences:\n",
      " \n",
      "[0.0, 0.9971134294446082, 0.9905440773848752, 0.9711649922394295, 0.8975348627550794, 0.9985750941939125, 0.9590381679218578, 0.997991811627765, 0.9953627002843829, 0.9904710663601372, 0.9899641915122135, 0.9944543294667505, 0.9911314553003079, 0.9907487583382132, 0.9325933597976847, 0.9420952068158919, 0.9885777915709388, 0.9968505062244742, 0.9984822394728942, 0.9970860881976974, 0.9900281057083465, 0.929176655050603] \n",
      "\n",
      "\n",
      "-- The two sentences which is close to the first sentence:\n",
      "\n",
      "* 4’ sentence ( distance is: 0.8975348627550794 ):\n",
      " In one, people deliberately tamed cats in a process of artificial selection, as they were useful predators of vermin.\n",
      "\n",
      "* 21’ sentence ( distance is: 0.929176655050603 ):\n",
      " The fifth major update to Mac OS X, Leopard, contains such a mountain of features - more than 300 by Apple's count.\n",
      "\n"
     ]
    }
   ],
   "source": [
    "cos2 = []\n",
    "for i in range (0, tf_idf.shape[0]):\n",
    "    cos2.append(cosine(tf_idf.iloc[0], tf_idf.iloc[i]))\n",
    "\n",
    "print(\"-- The cosine distance from first sentence to the all other sentences:\\n \")\n",
    "print(cos2,'\\n\\n')\n",
    "\n",
    "print(\"-- The two sentences which is close to the first sentence:\\n\")\n",
    "\n",
    "for i in range (0, len(cos2)):  \n",
    "    if cos2[i] in sorted(cos2)[1:3]:\n",
    "        print('*',str(i)+'’ sentence ( distance is:',cos2[i],'):\\n',txt[i])"
   ]
  },
  {
   "cell_type": "markdown",
   "id": "143a3bb4",
   "metadata": {},
   "source": [
    "## Task 3"
   ]
  },
  {
   "cell_type": "markdown",
   "id": "befd4acd",
   "metadata": {},
   "source": [
    "Please run the Hierarchy Clustering algorithm for the Task 1 and Task 2. And plot the dendrogram.\n",
    "\n",
    "Please explain your results. NOTE: by default scipy.cluster.hierarchy it uses euclidean distance.\n",
    "You should change it to the cosine distance. "
   ]
  },
  {
   "cell_type": "code",
   "execution_count": 19,
   "id": "045a699e",
   "metadata": {},
   "outputs": [],
   "source": [
    "import scipy.cluster.hierarchy as model"
   ]
  },
  {
   "cell_type": "code",
   "execution_count": 20,
   "id": "136190e7",
   "metadata": {},
   "outputs": [
    {
     "data": {
      "image/png": "[encoded data removed]",
      "text/plain": [
       "<Figure size 432x288 with 1 Axes>"
      ]
     },
     "metadata": {
      "needs_background": "light"
     },
     "output_type": "display_data"
    }
   ],
   "source": [
    "model.dendrogram(model.linkage(df, method='complete', metric='cosine'));"
   ]
  },
  {
   "cell_type": "code",
   "execution_count": 21,
   "id": "6d1a0029",
   "metadata": {},
   "outputs": [
    {
     "data": {
      "image/png": "[encoded data removed]",
      "text/plain": [
       "<Figure size 432x288 with 1 Axes>"
      ]
     },
     "metadata": {
      "needs_background": "light"
     },
     "output_type": "display_data"
    }
   ],
   "source": [
    "model.dendrogram(model.linkage(tf_idf, method='complete', metric='cosine'));"
   ]
  },
  {
   "cell_type": "markdown",
   "id": "756fba4d",
   "metadata": {},
   "source": [
    "The dendrogram of the 1st task clusters all the text into 3 clusters, but the second by 5.\n",
    "\n",
    "In the second dendrogram, sentences with index 0,4,3,6 at the top level are clustered together. These sentences all contain the words cats. Therefore, I think working with TF-IDF gives better results. But TF-IDF is based on the bag-of-words model, therefore it does not capture the position in the text, semantics, co-occurrences in different documents.  For this reason, I think, TF-IDF is only useful as a lexical level feature."
   ]
  }
 ],
 "metadata": {
  "kernelspec": {
   "display_name": "Python 3 (ipykernel)",
   "language": "python",
   "name": "python3"
  },
  "language_info": {
   "codemirror_mode": {
    "name": "ipython",
    "version": 3
   },
   "file_extension": ".py",
   "mimetype": "text/x-python",
   "name": "python",
   "nbconvert_exporter": "python",
   "pygments_lexer": "ipython3",
   "version": "3.8.8"
  }
 },
 "nbformat": 4,
 "nbformat_minor": 5
}
