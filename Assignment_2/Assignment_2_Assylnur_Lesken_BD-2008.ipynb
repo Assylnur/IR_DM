{
 "cells": [
  {
   "cell_type": "markdown",
   "id": "b3a0f5df",
   "metadata": {},
   "source": [
    "# Assignment 2.\n",
    "#### Assylnur_Lesken_BD-2008"
   ]
  },
  {
   "cell_type": "markdown",
   "id": "d0b23cea",
   "metadata": {},
   "source": [
    "## Part 1. KNN."
   ]
  },
  {
   "cell_type": "code",
   "execution_count": 1,
   "id": "d657b0f0",
   "metadata": {},
   "outputs": [],
   "source": [
    "import pandas as pd\n",
    "import numpy as np\n",
    "from statistics import mode\n",
    "import matplotlib.pyplot as plt"
   ]
  },
  {
   "cell_type": "code",
   "execution_count": 2,
   "id": "346279b9",
   "metadata": {},
   "outputs": [],
   "source": [
    "train = pd.read_csv('train.csv', index_col='Unnamed: 0')\n",
    "test = pd.read_csv('test.csv', index_col='Unnamed: 0')\n",
    "y = pd.read_csv('train_answers.csv', index_col='Unnamed: 0')\n",
    "answers = pd.read_csv('real_answers_for_test.csv', index_col='Unnamed: 0')"
   ]
  },
  {
   "cell_type": "code",
   "execution_count": 3,
   "id": "b27523f2",
   "metadata": {},
   "outputs": [
    {
     "name": "stdout",
     "output_type": "stream",
     "text": [
      "Train: (426, 31)\n",
      "Test: (143, 31)\n",
      "Y: (426, 1)\n",
      "Answers: (143, 1)\n"
     ]
    }
   ],
   "source": [
    "# The sizes with data.shape. \n",
    "print('Train:', train.shape)\n",
    "print('Test:', test.shape)\n",
    "print('Y:', y.shape)\n",
    "print('Answers:', answers.shape)"
   ]
  },
  {
   "cell_type": "code",
   "execution_count": 4,
   "id": "714f6351",
   "metadata": {},
   "outputs": [
    {
     "name": "stdout",
     "output_type": "stream",
     "text": [
      "Train: 13206\n",
      "Test: 4433\n",
      "Y: 426\n",
      "Answers: 143\n"
     ]
    }
   ],
   "source": [
    "# The sizes. \n",
    "print('Train:', train.size)\n",
    "print('Test:', test.size)\n",
    "print('Y:', y.size)\n",
    "print('Answers:', answers.size)"
   ]
  },
  {
   "cell_type": "markdown",
   "id": "6f2469b6",
   "metadata": {},
   "source": [
    "Look at their sizes with data.shape:<br>\n",
    "Train: (426, 31); \n",
    "Test: (143, 31); \n",
    "Y: (426, 1); \n",
    "Answers: (143, 1) \n",
    "<br>\n",
    "<br>\n",
    "How many features we have? <br>\n",
    "31 - features<br><br>\n",
    "What is the sizes of train, test, y and answers?<br> \n",
    "Train: 13206; \n",
    "Test: 4433; \n",
    "Y: 426; \n",
    "Answers: 143; "
   ]
  },
  {
   "cell_type": "code",
   "execution_count": 5,
   "id": "39470a41",
   "metadata": {},
   "outputs": [],
   "source": [
    "distLst = []\n",
    "for i in range(len(train)):\n",
    "#     calculate the distance\n",
    "    distance = np.linalg.norm(test.iloc[0]-train.iloc[i])\n",
    "    distLst.append(distance)"
   ]
  },
  {
   "cell_type": "code",
   "execution_count": 6,
   "id": "eeb9fd76",
   "metadata": {},
   "outputs": [
    {
     "name": "stdout",
     "output_type": "stream",
     "text": [
      "Minimum distance:  3.0677819598961507\n",
      "The index of the record with minimum dist:  13\n",
      "The label at the index:  Diagnosis    B\n",
      "Name: 128, dtype: object\n"
     ]
    }
   ],
   "source": [
    "print('Minimum distance: ', min(distLst))\n",
    "print('The index of the record with minimum dist: ', distLst.index(min(distLst)))\n",
    "print('The label at the index: ', y.iloc[distLst.index(min(distLst))])"
   ]
  },
  {
   "cell_type": "code",
   "execution_count": 7,
   "id": "9c5ed271",
   "metadata": {},
   "outputs": [],
   "source": [
    "# STEP1: Calculate the distance to all train set.\n",
    "\n",
    "all_dists=[]\n",
    "for j in range(len(test)):\n",
    "    distLst = []\n",
    "    for i in range(len(train)):\n",
    "    #     calculate the distance\n",
    "        distance = np.linalg.norm(test.iloc[j]-train.iloc[i])\n",
    "        distLst.append(distance)\n",
    "    all_dists.append(distLst)"
   ]
  },
  {
   "cell_type": "code",
   "execution_count": 8,
   "id": "b458fa86",
   "metadata": {},
   "outputs": [],
   "source": [
    "# STEP2:  Predict for all records of test\n",
    "\n",
    "# Returns the predicted labels as a list\n",
    "def knn(k):\n",
    "    lst=[]\n",
    "    for distLst in all_dists:\n",
    "#      find the k nearest neighbor\n",
    "        neighbors=np.sort(distLst)[0:k]\n",
    "#      find the most frequent label\n",
    "        label = mode([y.iloc[distLst.index(n)][0] for n in neighbors])\n",
    "        lst.append(label)\n",
    "    return lst"
   ]
  },
  {
   "cell_type": "code",
   "execution_count": 9,
   "id": "4602f5d4",
   "metadata": {},
   "outputs": [],
   "source": [
    "# STEP3: Calculate the accuracy.\n",
    "\n",
    "# Returns the accuracy\n",
    "def calc_acc(x):\n",
    "    count=0\n",
    "    for i in range(len(x)):\n",
    "        if x[i][0]==answers.iloc[i][0]:\n",
    "            count+=1\n",
    "    return count/len(x)"
   ]
  },
  {
   "cell_type": "code",
   "execution_count": 10,
   "id": "c2dedba7",
   "metadata": {},
   "outputs": [],
   "source": [
    "# Calculate accuracy for each neighbors\n",
    "neighbors = [1,3,5,6,7,9]\n",
    "accuracy = [calc_acc(knn(i)) if i%2!=0 else (calc_acc(knn(i-1))+calc_acc(knn(i+1)))/2  for i in neighbors]"
   ]
  },
  {
   "cell_type": "code",
   "execution_count": 11,
   "id": "d18feca6",
   "metadata": {},
   "outputs": [
    {
     "data": {
      "text/plain": [
       "[0.958041958041958,\n",
       " 0.9440559440559441,\n",
       " 0.9440559440559441,\n",
       " 0.9475524475524475,\n",
       " 0.951048951048951,\n",
       " 0.958041958041958]"
      ]
     },
     "execution_count": 11,
     "metadata": {},
     "output_type": "execute_result"
    }
   ],
   "source": [
    "accuracy"
   ]
  },
  {
   "cell_type": "code",
   "execution_count": 12,
   "id": "7e4b6512",
   "metadata": {},
   "outputs": [
    {
     "data": {
      "image/png": "[encoded data removed]",
      "text/plain": [
       "<Figure size 864x432 with 1 Axes>"
      ]
     },
     "metadata": {
      "needs_background": "light"
     },
     "output_type": "display_data"
    }
   ],
   "source": [
    "# STEP4: plot the graph\n",
    "plt.figure(figsize=(12,6))\n",
    "plt.plot(neighbors, accuracy)\n",
    "plt.show()"
   ]
  },
  {
   "cell_type": "markdown",
   "id": "ea065d8f",
   "metadata": {},
   "source": [
    "## Part 2. K-means."
   ]
  },
  {
   "cell_type": "code",
   "execution_count": 13,
   "id": "b72d1320",
   "metadata": {},
   "outputs": [],
   "source": [
    "from scipy.io import loadmat\n",
    "import os\n",
    "\n",
    "# Load the example\n",
    "data = loadmat('ex7data2.mat')\n",
    "X = data['X']\n",
    "initial_centroids = np.array([[3,3], [6,2], [8,5]])"
   ]
  },
  {
   "cell_type": "code",
   "execution_count": 14,
   "id": "5701ed1d",
   "metadata": {},
   "outputs": [],
   "source": [
    "# STEP1: Finding the closest centroid (assign it)\n",
    "\n",
    "# Returns the index of closest centroids for each data\n",
    "def findClosestCentroids(X, centroids):\n",
    "    idxlst = []\n",
    "    for i in X:\n",
    "        dist_lst = []\n",
    "        for j in centroids:\n",
    "            distance = np.linalg.norm(i-j)\n",
    "            dist_lst.append(distance)       \n",
    "        idxlst.append([dist_lst.index(min(dist_lst))])\n",
    "    return np.array(idxlst)"
   ]
  },
  {
   "cell_type": "code",
   "execution_count": 15,
   "id": "d70ef466",
   "metadata": {},
   "outputs": [
    {
     "name": "stdout",
     "output_type": "stream",
     "text": [
      "Closest centroids for the first 3 examples:\n",
      "[[0]\n",
      " [2]\n",
      " [1]]\n",
      "(the closest centroids should be 0, 2, 1 respectively)\n"
     ]
    }
   ],
   "source": [
    "idx = findClosestCentroids(X, initial_centroids)\n",
    "\n",
    "print('Closest centroids for the first 3 examples:')\n",
    "print(idx[:3])\n",
    "print('(the closest centroids should be 0, 2, 1 respectively)')"
   ]
  },
  {
   "cell_type": "code",
   "execution_count": 16,
   "id": "19f7e18f",
   "metadata": {},
   "outputs": [],
   "source": [
    "# STEP2: Compute the mean. (recomputing at each iteration)\n",
    "\n",
    "# Returns the coordinates of new centroids\n",
    "def computeCentroids(X, idx, K):\n",
    "    cent = []\n",
    "    for k in range(K):\n",
    "        points = []\n",
    "        for i in range(len(idx)):\n",
    "            if idx[i] == k:\n",
    "                points.append(X[i])\n",
    "        points = np.array(points)\n",
    "        x = np.mean(points[:, 0])\n",
    "        y = np.mean(points[:, 1])\n",
    "        cent.append([x, y])\n",
    "    return np.array(cent)"
   ]
  },
  {
   "cell_type": "code",
   "execution_count": 17,
   "id": "f9df1c4b",
   "metadata": {},
   "outputs": [
    {
     "name": "stdout",
     "output_type": "stream",
     "text": [
      "Centroids computed after initial finding of closest centroids:\n",
      "[[2.42830111 3.15792418]\n",
      " [5.81350331 2.63365645]\n",
      " [7.11938687 3.6166844 ]]\n",
      "\n",
      "The centroids should be\n",
      "[ 2.42830111  3.15792418 ]\n",
      "[ 5.81350331  2.63365645 ]\n",
      "[ 7.11938687  3.6166844 ]\n"
     ]
    }
   ],
   "source": [
    "K=3\n",
    "centroids = computeCentroids(X, idx, K)\n",
    "print('Centroids computed after initial finding of closest centroids:')\n",
    "print(centroids)\n",
    "print('\\nThe centroids should be')\n",
    "print('[ 2.42830111  3.15792418 ]')\n",
    "print('[ 5.81350331  2.63365645 ]')\n",
    "print('[ 7.11938687  3.6166844 ]')"
   ]
  },
  {
   "cell_type": "code",
   "execution_count": 18,
   "id": "099a847d",
   "metadata": {},
   "outputs": [],
   "source": [
    "data = loadmat(os.path.join('ex7data2.mat'))\n",
    "X = data['X']\n",
    "max_iters = 10\n",
    "initial_centroids = np.array([[3,3], [6,2], [8,5]])\n",
    "for i in range (max_iters):\n",
    "    idx = findClosestCentroids(X, centroids)\n",
    "    centroids = computeCentroids(X, idx, K)"
   ]
  },
  {
   "cell_type": "code",
   "execution_count": 19,
   "id": "cfca81e7",
   "metadata": {},
   "outputs": [
    {
     "data": {
      "image/png": "[encoded data removed]",
      "text/plain": [
       "<Figure size 720x432 with 1 Axes>"
      ]
     },
     "metadata": {
      "needs_background": "light"
     },
     "output_type": "display_data"
    }
   ],
   "source": [
    "#let's see\n",
    "fig = plt.figure(figsize=(10,6))\n",
    "plt.scatter(X[:, 0], X[:, 1],  c=idx)\n",
    "plt.scatter(centroids[:, 0], centroids[:, 1],\n",
    "            marker='+', s=500, \n",
    "            linewidth=3) \n",
    "plt.show()"
   ]
  },
  {
   "cell_type": "code",
   "execution_count": null,
   "id": "3185f852",
   "metadata": {},
   "outputs": [],
   "source": []
  }
 ],
 "metadata": {
  "kernelspec": {
   "display_name": "Python 3",
   "language": "python",
   "name": "python3"
  },
  "language_info": {
   "codemirror_mode": {
    "name": "ipython",
    "version": 3
   },
   "file_extension": ".py",
   "mimetype": "text/x-python",
   "name": "python",
   "nbconvert_exporter": "python",
   "pygments_lexer": "ipython3",
   "version": "3.8.8"
  }
 },
 "nbformat": 4,
 "nbformat_minor": 5
}
